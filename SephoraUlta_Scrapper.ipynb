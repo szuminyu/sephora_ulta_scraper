{
 "cells": [
  {
   "cell_type": "markdown",
   "metadata": {},
   "source": [
    "## Sephora & Ulta Beauty Scrapper\n",
    "\n",
    "For this project, I scrape store location information of Sephora and Ulta Beauty"
   ]
  },
  {
   "cell_type": "code",
   "execution_count": 1,
   "metadata": {},
   "outputs": [],
   "source": [
    "import requests\n",
    "from bs4 import BeautifulSoup\n",
    "import pandas as pd\n",
    "import re "
   ]
  },
  {
   "cell_type": "markdown",
   "metadata": {},
   "source": [
    "### Sephora"
   ]
  },
  {
   "cell_type": "code",
   "execution_count": 4,
   "metadata": {},
   "outputs": [],
   "source": [
    "def SephoraScrapper():\n",
    "    #For Sephora, I will get the link of store first, then on the store page,\n",
    "    #I will get the location info\n",
    "    \n",
    "    #get url\n",
    "    url = 'https://www.sephora.com/happening/storelist'\n",
    "    page = requests.get(url)\n",
    "    soup = BeautifulSoup(page.content, 'html.parser')\n",
    "    \n",
    "    ##first, get store name and link data\n",
    "    store_name = []\n",
    "    store_link = []\n",
    "\n",
    "    for store in soup.find_all(class_= 'css-j9u336'):\n",
    "        #get store name\n",
    "        store_name.append(store.text)\n",
    "    \n",
    "        #get link\n",
    "        link = 'http://www.sephora.com' + store.get('href')\n",
    "        store_link.append(link)\n",
    "        \n",
    "    #save it into df and select stores in the US\n",
    "    sephora_df = pd.DataFrame(data = {'name':store_name, 'link': store_link})\n",
    "    sephora_df = sephora_df.loc[0:1087,]\n",
    "    \n",
    "    \n",
    "    \n",
    "    ##next, click the clink and get location info\n",
    "    \n",
    "    store_loc = []\n",
    "    store_zip = []\n",
    "    \n",
    "    for s in range(0, len(sephora_df)):\n",
    "        s_link = sephora_df.loc[s, 'link']\n",
    "        s_request = requests.get(s_link)\n",
    "        s_soup = BeautifulSoup(s_request.content, 'html.parser')\n",
    "        s_text = s_soup.find_all('p', class_ = 'css-a2osvj')[1]\n",
    "        s_loc = s_text.text\n",
    "        s_zipcode = re.findall(r\"\\D(\\d{5})\\D\", s_text.text)\n",
    "    \n",
    "        store_loc.append(s_loc)\n",
    "        store_zip.append(s_zipcode)\n",
    "        \n",
    "    \n",
    "    sephora_df['location'] = store_loc\n",
    "    sephora_df['zip'] = store_zip\n",
    "    \n",
    "    return sephora_df"
   ]
  },
  {
   "cell_type": "code",
   "execution_count": 5,
   "metadata": {},
   "outputs": [],
   "source": [
    "sephora_df = SephoraScrapper()"
   ]
  },
  {
   "cell_type": "markdown",
   "metadata": {},
   "source": [
    "### Ulta Beauty"
   ]
  },
  {
   "cell_type": "markdown",
   "metadata": {},
   "source": [
    "For Ulta, I will use selenium to scrap because there are interactive bottons (dynamics website)."
   ]
  },
  {
   "cell_type": "code",
   "execution_count": 6,
   "metadata": {},
   "outputs": [],
   "source": [
    "from selenium import webdriver\n",
    "from selenium.webdriver.common.action_chains import ActionChains\n",
    "\n",
    "def UltaScrapperI():\n",
    "    \n",
    "    #set up driver and open the ulta website\n",
    "    driver = webdriver.Chrome('/Users/szuminyu/Desktop/chromedriver')\n",
    "    driver.get('https://www.ulta.com/stores/directory')\n",
    "        \n",
    "    #click through all buttons and open locations\n",
    "    \n",
    "    button = driver.find_elements_by_class_name('sl-all-locations__state__locations')\n",
    "    \n",
    "    for i in range(0,len(button)):\n",
    "        if button[i].is_displayed():\n",
    "            ActionChains(driver).move_to_element(button[i]).perform()\n",
    "            button[i].click() \n",
    "    \n",
    "    return driver\n",
    "\n",
    "\n",
    "def UltaScrapperII(driver):\n",
    "    ## Click buttons on chrome manually ## \n",
    "    \n",
    "    #Make sure the informatin I need is there, show print some info if succeed\n",
    "    driver.find_element_by_class_name('sl-item__nap')\n",
    "    \n",
    "    #then feed it into bs\n",
    "    soup = BeautifulSoup(driver.page_source, 'lxml')\n",
    "\n",
    "    \n",
    "    #get store data\n",
    "    ulta_store = []\n",
    "    ulta_loc = []\n",
    "    ulta_zip = []\n",
    "\n",
    "    for store in soup.find_all('span', {'class','sl-item__header__mall'}):\n",
    "        store_name = store.text\n",
    "        ulta_store.append(store_name)\n",
    "\n",
    "    for s in soup.find_all('span', {'class', 'sl-item__nap'}): \n",
    "        store_loc = s.text\n",
    "        store_zip = re.findall(r\"[0-9]{5}$(?![0-9])\", store_loc)\n",
    "    \n",
    "        ulta_loc.append(store_loc)\n",
    "        ulta_zip.append(store_zip)\n",
    "        \n",
    "    #put them into dataframe\n",
    "    ulta_df = pd.DataFrame({'name': ulta_store, 'location': ulta_loc, 'zip': ulta_zip})\n",
    "    \n",
    "    return ulta_df"
   ]
  },
  {
   "cell_type": "code",
   "execution_count": 7,
   "metadata": {},
   "outputs": [],
   "source": [
    "mydriver = UltaScrapperI()"
   ]
  },
  {
   "cell_type": "code",
   "execution_count": 8,
   "metadata": {},
   "outputs": [],
   "source": [
    "ulta_df = UltaScrapperII(mydriver)"
   ]
  },
  {
   "cell_type": "markdown",
   "metadata": {},
   "source": [
    "### Put two dataset together"
   ]
  },
  {
   "cell_type": "code",
   "execution_count": 9,
   "metadata": {},
   "outputs": [
    {
     "data": {
      "text/html": [
       "<div>\n",
       "<style scoped>\n",
       "    .dataframe tbody tr th:only-of-type {\n",
       "        vertical-align: middle;\n",
       "    }\n",
       "\n",
       "    .dataframe tbody tr th {\n",
       "        vertical-align: top;\n",
       "    }\n",
       "\n",
       "    .dataframe thead th {\n",
       "        text-align: right;\n",
       "    }\n",
       "</style>\n",
       "<table border=\"1\" class=\"dataframe\">\n",
       "  <thead>\n",
       "    <tr style=\"text-align: right;\">\n",
       "      <th></th>\n",
       "      <th>name</th>\n",
       "      <th>location</th>\n",
       "      <th>zip</th>\n",
       "      <th>source</th>\n",
       "    </tr>\n",
       "  </thead>\n",
       "  <tbody>\n",
       "    <tr>\n",
       "      <th>0</th>\n",
       "      <td>Birmingham, Birmingham</td>\n",
       "      <td>205 Summit BlvdBirmingham, AL 35243US</td>\n",
       "      <td>[35243]</td>\n",
       "      <td>Sephora</td>\n",
       "    </tr>\n",
       "    <tr>\n",
       "      <th>1</th>\n",
       "      <td>Hoover, Riverchase Galleria</td>\n",
       "      <td>2000 Riverchase GalleriaHoover, AL 35244US</td>\n",
       "      <td>[35244]</td>\n",
       "      <td>Sephora</td>\n",
       "    </tr>\n",
       "    <tr>\n",
       "      <th>2</th>\n",
       "      <td>Huntsville, Huntsville</td>\n",
       "      <td>335 The Bridge StHuntsville, AL 35806US</td>\n",
       "      <td>[35806]</td>\n",
       "      <td>Sephora</td>\n",
       "    </tr>\n",
       "    <tr>\n",
       "      <th>3</th>\n",
       "      <td>Anchorage, 5TH AVE MALL</td>\n",
       "      <td>320 W. 5th AveAnchorage, AK 99501US</td>\n",
       "      <td>[99501]</td>\n",
       "      <td>Sephora</td>\n",
       "    </tr>\n",
       "    <tr>\n",
       "      <th>4</th>\n",
       "      <td>Chandler, Chandler Fashion Center</td>\n",
       "      <td>3111 W. Chandler BlvdChandler, AZ 85226US</td>\n",
       "      <td>[85226]</td>\n",
       "      <td>Sephora</td>\n",
       "    </tr>\n",
       "    <tr>\n",
       "      <th>5</th>\n",
       "      <td>Gilbert, San Tan Village</td>\n",
       "      <td>2206 E Williams Field RdGilbert, AZ 85295US</td>\n",
       "      <td>[85295]</td>\n",
       "      <td>Sephora</td>\n",
       "    </tr>\n",
       "    <tr>\n",
       "      <th>6</th>\n",
       "      <td>Glendale, Arrowhead Towne Center</td>\n",
       "      <td>7700 W Arrowhead Towne CenterGlendale, AZ 85308US</td>\n",
       "      <td>[85308]</td>\n",
       "      <td>Sephora</td>\n",
       "    </tr>\n",
       "    <tr>\n",
       "      <th>7</th>\n",
       "      <td>Mesa, Dana Park</td>\n",
       "      <td>1822 S Val Vista Dr\\nSuite 106 \\nMesa, AZ 85204US</td>\n",
       "      <td>[85204]</td>\n",
       "      <td>Sephora</td>\n",
       "    </tr>\n",
       "    <tr>\n",
       "      <th>8</th>\n",
       "      <td>Phoenix, Biltmore</td>\n",
       "      <td>2502 E. Camelback Rd. Phoenix, AZ 85016US</td>\n",
       "      <td>[85016]</td>\n",
       "      <td>Sephora</td>\n",
       "    </tr>\n",
       "    <tr>\n",
       "      <th>9</th>\n",
       "      <td>Scottsdale, Scottsdale Fashion Center</td>\n",
       "      <td>7014 East Camelback RdScottsdale, AZ 85251US</td>\n",
       "      <td>[85251]</td>\n",
       "      <td>Sephora</td>\n",
       "    </tr>\n",
       "  </tbody>\n",
       "</table>\n",
       "</div>"
      ],
      "text/plain": [
       "                                    name  \\\n",
       "0                 Birmingham, Birmingham   \n",
       "1            Hoover, Riverchase Galleria   \n",
       "2                 Huntsville, Huntsville   \n",
       "3                Anchorage, 5TH AVE MALL   \n",
       "4      Chandler, Chandler Fashion Center   \n",
       "5               Gilbert, San Tan Village   \n",
       "6       Glendale, Arrowhead Towne Center   \n",
       "7                        Mesa, Dana Park   \n",
       "8                      Phoenix, Biltmore   \n",
       "9  Scottsdale, Scottsdale Fashion Center   \n",
       "\n",
       "                                            location      zip   source  \n",
       "0              205 Summit BlvdBirmingham, AL 35243US  [35243]  Sephora  \n",
       "1         2000 Riverchase GalleriaHoover, AL 35244US  [35244]  Sephora  \n",
       "2            335 The Bridge StHuntsville, AL 35806US  [35806]  Sephora  \n",
       "3                320 W. 5th AveAnchorage, AK 99501US  [99501]  Sephora  \n",
       "4          3111 W. Chandler BlvdChandler, AZ 85226US  [85226]  Sephora  \n",
       "5        2206 E Williams Field RdGilbert, AZ 85295US  [85295]  Sephora  \n",
       "6  7700 W Arrowhead Towne CenterGlendale, AZ 85308US  [85308]  Sephora  \n",
       "7  1822 S Val Vista Dr\\nSuite 106 \\nMesa, AZ 85204US  [85204]  Sephora  \n",
       "8          2502 E. Camelback Rd. Phoenix, AZ 85016US  [85016]  Sephora  \n",
       "9       7014 East Camelback RdScottsdale, AZ 85251US  [85251]  Sephora  "
      ]
     },
     "execution_count": 9,
     "metadata": {},
     "output_type": "execute_result"
    }
   ],
   "source": [
    "sephora_df = sephora_df.drop(['link'], axis = 1)\n",
    "sephora_df['source']='Sephora'\n",
    "ulta_df['source'] ='Ulta'\n",
    "sephora_ulta = sephora_df.append(ulta_df)\n",
    "sephora_ulta.head(10)"
   ]
  },
  {
   "cell_type": "code",
   "execution_count": 10,
   "metadata": {},
   "outputs": [],
   "source": [
    "sephora_ulta.to_csv('sephora_ulta.csv')"
   ]
  }
 ],
 "metadata": {
  "kernelspec": {
   "display_name": "Python 3",
   "language": "python",
   "name": "python3"
  },
  "language_info": {
   "codemirror_mode": {
    "name": "ipython",
    "version": 3
   },
   "file_extension": ".py",
   "mimetype": "text/x-python",
   "name": "python",
   "nbconvert_exporter": "python",
   "pygments_lexer": "ipython3",
   "version": "3.7.1"
  }
 },
 "nbformat": 4,
 "nbformat_minor": 2
}
